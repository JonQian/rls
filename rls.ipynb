{
 "cells": [
  {
   "cell_type": "markdown",
   "metadata": {},
   "source": [
    "[递推最小二乘法](http://www.docin.com/p-1497951884.html)"
   ]
  },
  {
   "cell_type": "markdown",
   "metadata": {},
   "source": [
    "还有另外一种递推最小二乘是利用过去的输入输出去预测新的输出，并不是同一种算法"
   ]
  },
  {
   "cell_type": "markdown",
   "metadata": {},
   "source": [
    "设方程$x_kA=b_k$，$x_k$为n维输入变量，$b_k$为输出，$A$为n维待辨识参数\n",
    "\n",
    "实际$b_k$存在测量误差情况下，$Ax_k=b_k+\\xi_k$\n",
    "\n",
    "设$n=3$，$A=[1,2,3]$，生成测试数据"
   ]
  },
  {
   "cell_type": "code",
   "execution_count": 73,
   "metadata": {},
   "outputs": [],
   "source": [
    "import numpy as np\n",
    "\n",
    "n = 3\n",
    "A = np.matrix([1,2,3]).T\n",
    "x = []\n",
    "b = []\n",
    "for i in range(500):\n",
    "    xi = np.matrix((np.random.rand(n)-0.5)*10)\n",
    "    x.append(xi)\n",
    "    b.append(xi.dot(A)[0,0]+(np.random.rand()-0.5))"
   ]
  },
  {
   "cell_type": "markdown",
   "metadata": {},
   "source": [
    "**最小二乘**"
   ]
  },
  {
   "cell_type": "code",
   "execution_count": 84,
   "metadata": {},
   "outputs": [
    {
     "name": "stdout",
     "output_type": "stream",
     "text": [
      "[[ 0.99562951]\n",
      " [ 1.98711778]\n",
      " [ 2.99843311]]\n"
     ]
    }
   ],
   "source": [
    "X = np.matrix(np.vstack(x))\n",
    "A = (np.linalg.inv(X.T.dot(X)).dot(X.T))*np.matrix(b).T\n",
    "print(A)"
   ]
  },
  {
   "cell_type": "markdown",
   "metadata": {},
   "source": [
    "**递推最小二乘**"
   ]
  },
  {
   "cell_type": "code",
   "execution_count": 106,
   "metadata": {},
   "outputs": [
    {
     "name": "stdout",
     "output_type": "stream",
     "text": [
      "[[ 0.99562951]\n",
      " [ 1.98711778]\n",
      " [ 2.99843311]]\n"
     ]
    }
   ],
   "source": [
    "lbd = 1.0\n",
    "\n",
    "def Pnext(xk, Qk, Pk):\n",
    "    return 1.0/lbd*(np.eye(n)-Qk.dot(xk)).dot(Pk)\n",
    "\n",
    "def Qk(xk, Pk):\n",
    "    return Pk.dot(xk.T)/(lbd+xk.dot(Pk).dot(xk.T))\n",
    "\n",
    "Ai = np.matrix([0,0,0]).T\n",
    "Pi = np.eye(n)*1000000\n",
    "for i in range(len(x)):\n",
    "    bi = b[i]\n",
    "    xi = x[i]\n",
    "    Qi = Qk(xi, Pi)\n",
    "    Ai = Ai+Qi.dot(bi-xi.dot(Ai))\n",
    "    Pi = Pnext(xi,Qi,Pi)\n",
    "print(Ai)"
   ]
  },
  {
   "cell_type": "code",
   "execution_count": 102,
   "metadata": {},
   "outputs": [
    {
     "name": "stdout",
     "output_type": "stream",
     "text": [
      "[[ 0.00065313]\n",
      " [-0.00075494]\n",
      " [-0.00072897]]\n",
      "[[ 3.1103628  -2.984917   -3.00911299]]\n",
      "[[ 0.00203148 -0.00194955 -0.00196535]\n",
      " [-0.00234814  0.00225344  0.0022717 ]\n",
      " [-0.00226735  0.00217591  0.00219354]]\n"
     ]
    }
   ],
   "source": [
    "print(Qi)\n",
    "print(xi)\n",
    "print(Qi.dot(xi))"
   ]
  }
 ],
 "metadata": {
  "kernelspec": {
   "display_name": "Python 3",
   "language": "python",
   "name": "python3"
  },
  "language_info": {
   "codemirror_mode": {
    "name": "ipython",
    "version": 3
   },
   "file_extension": ".py",
   "mimetype": "text/x-python",
   "name": "python",
   "nbconvert_exporter": "python",
   "pygments_lexer": "ipython3",
   "version": "3.6.2"
  }
 },
 "nbformat": 4,
 "nbformat_minor": 2
}
